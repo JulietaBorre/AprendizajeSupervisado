{
  "nbformat": 4,
  "nbformat_minor": 0,
  "metadata": {
    "kernelspec": {
      "display_name": "Python 3",
      "language": "python",
      "name": "python3"
    },
    "language_info": {
      "codemirror_mode": {
        "name": "ipython",
        "version": 3
      },
      "file_extension": ".py",
      "mimetype": "text/x-python",
      "name": "python",
      "nbconvert_exporter": "python",
      "pygments_lexer": "ipython3",
      "version": "3.7.6"
    },
    "colab": {
      "name": "aprendizajeSupervsado.ipynb",
      "provenance": [],
      "collapsed_sections": [],
      "toc_visible": true
    }
  },
  "cells": [
    {
      "cell_type": "markdown",
      "metadata": {
        "id": "-8E7t_9_Y5Xu",
        "colab_type": "text"
      },
      "source": [
        "# Diplodatos Kaggle Competition"
      ]
    },
    {
      "cell_type": "markdown",
      "metadata": {
        "id": "07pa2mplY5Xw",
        "colab_type": "text"
      },
      "source": [
        "We present this peace of code to create the baseline for the competition, and as an example of how to deal with these kind of problems. The main goals are that you:\n",
        "\n",
        "1. Learn\n",
        "1. Try different models and see which one fits the best the given data\n",
        "1. Get a higher score than the given one in the current baseline example\n",
        "1. Try to get the highest score in the class :)"
      ]
    },
    {
      "cell_type": "code",
      "metadata": {
        "id": "kFbSP9BzY5Xx",
        "colab_type": "code",
        "colab": {}
      },
      "source": [
        "# Import the required packages\n",
        "import os\n",
        "\n",
        "import numpy as np\n",
        "import pandas as pd\n",
        "import xgboost as xgb\n",
        "import scipy\n",
        "import matplotlib.pyplot as plt"
      ],
      "execution_count": 1,
      "outputs": []
    },
    {
      "cell_type": "code",
      "metadata": {
        "id": "CHnwIOS8EzvA",
        "colab_type": "code",
        "colab": {
          "base_uri": "https://localhost:8080/",
          "height": 419
        },
        "outputId": "df688045-1edf-4cd5-d5f1-c7baa582e593"
      },
      "source": [
        "!pip install pandas\n",
        "!pip install numpy\n",
        "!pip install xgboost\n",
        "!pip install matplotlib\n",
        "!pip install scipy\n",
        "!pip install scikit-learn"
      ],
      "execution_count": 2,
      "outputs": [
        {
          "output_type": "stream",
          "text": [
            "Requirement already satisfied: pandas in /usr/local/lib/python3.6/dist-packages (1.0.5)\n",
            "Requirement already satisfied: numpy>=1.13.3 in /usr/local/lib/python3.6/dist-packages (from pandas) (1.18.5)\n",
            "Requirement already satisfied: pytz>=2017.2 in /usr/local/lib/python3.6/dist-packages (from pandas) (2018.9)\n",
            "Requirement already satisfied: python-dateutil>=2.6.1 in /usr/local/lib/python3.6/dist-packages (from pandas) (2.8.1)\n",
            "Requirement already satisfied: six>=1.5 in /usr/local/lib/python3.6/dist-packages (from python-dateutil>=2.6.1->pandas) (1.15.0)\n",
            "Requirement already satisfied: numpy in /usr/local/lib/python3.6/dist-packages (1.18.5)\n",
            "Requirement already satisfied: xgboost in /usr/local/lib/python3.6/dist-packages (0.90)\n",
            "Requirement already satisfied: numpy in /usr/local/lib/python3.6/dist-packages (from xgboost) (1.18.5)\n",
            "Requirement already satisfied: scipy in /usr/local/lib/python3.6/dist-packages (from xgboost) (1.4.1)\n",
            "Requirement already satisfied: matplotlib in /usr/local/lib/python3.6/dist-packages (3.2.2)\n",
            "Requirement already satisfied: kiwisolver>=1.0.1 in /usr/local/lib/python3.6/dist-packages (from matplotlib) (1.2.0)\n",
            "Requirement already satisfied: python-dateutil>=2.1 in /usr/local/lib/python3.6/dist-packages (from matplotlib) (2.8.1)\n",
            "Requirement already satisfied: numpy>=1.11 in /usr/local/lib/python3.6/dist-packages (from matplotlib) (1.18.5)\n",
            "Requirement already satisfied: cycler>=0.10 in /usr/local/lib/python3.6/dist-packages (from matplotlib) (0.10.0)\n",
            "Requirement already satisfied: pyparsing!=2.0.4,!=2.1.2,!=2.1.6,>=2.0.1 in /usr/local/lib/python3.6/dist-packages (from matplotlib) (2.4.7)\n",
            "Requirement already satisfied: six>=1.5 in /usr/local/lib/python3.6/dist-packages (from python-dateutil>=2.1->matplotlib) (1.15.0)\n",
            "Requirement already satisfied: scipy in /usr/local/lib/python3.6/dist-packages (1.4.1)\n",
            "Requirement already satisfied: numpy>=1.13.3 in /usr/local/lib/python3.6/dist-packages (from scipy) (1.18.5)\n",
            "Requirement already satisfied: scikit-learn in /usr/local/lib/python3.6/dist-packages (0.22.2.post1)\n",
            "Requirement already satisfied: joblib>=0.11 in /usr/local/lib/python3.6/dist-packages (from scikit-learn) (0.16.0)\n",
            "Requirement already satisfied: scipy>=0.17.0 in /usr/local/lib/python3.6/dist-packages (from scikit-learn) (1.4.1)\n",
            "Requirement already satisfied: numpy>=1.11.0 in /usr/local/lib/python3.6/dist-packages (from scikit-learn) (1.18.5)\n"
          ],
          "name": "stdout"
        }
      ]
    },
    {
      "cell_type": "code",
      "metadata": {
        "id": "Kifs7wQYGGSw",
        "colab_type": "code",
        "colab": {
          "resources": {
            "http://localhost:8080/nbextensions/google.colab/files.js": {
              "data": "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",
              "ok": true,
              "headers": [
                [
                  "content-type",
                  "application/javascript"
                ]
              ],
              "status": 200,
              "status_text": "OK"
            }
          },
          "base_uri": "https://localhost:8080/",
          "height": 70
        },
        "outputId": "b35f9687-598b-47c1-840e-3c41f63e5433"
      },
      "source": [
        "from google.colab import files\n",
        "uploaded = files.upload()"
      ],
      "execution_count": 5,
      "outputs": [
        {
          "output_type": "display_data",
          "data": {
            "text/html": [
              "\n",
              "     <input type=\"file\" id=\"files-009f65bb-28c4-4444-a409-1f77f3874e24\" name=\"files[]\" multiple disabled\n",
              "        style=\"border:none\" />\n",
              "     <output id=\"result-009f65bb-28c4-4444-a409-1f77f3874e24\">\n",
              "      Upload widget is only available when the cell has been executed in the\n",
              "      current browser session. Please rerun this cell to enable.\n",
              "      </output>\n",
              "      <script src=\"/nbextensions/google.colab/files.js\"></script> "
            ],
            "text/plain": [
              "<IPython.core.display.HTML object>"
            ]
          },
          "metadata": {
            "tags": []
          }
        },
        {
          "output_type": "stream",
          "text": [
            "Saving train.csv to train.csv\n"
          ],
          "name": "stdout"
        }
      ]
    },
    {
      "cell_type": "code",
      "metadata": {
        "id": "TnhWF5uwHF2o",
        "colab_type": "code",
        "colab": {}
      },
      "source": [
        "vanilla_train_df = pd.read_csv('/content/train.csv')\n",
        "vanilla_test_df = pd.read_csv('/content/test.csv')"
      ],
      "execution_count": 6,
      "outputs": []
    },
    {
      "cell_type": "code",
      "metadata": {
        "id": "fmVCHitMxZkm",
        "colab_type": "code",
        "colab": {}
      },
      "source": [
        "days = {\n",
        "    \"Monday\": 1,\n",
        "    \"Tuesday\": 2,\n",
        "    \"Wednesday\": 3,\n",
        "    \"Thursday\": 4,\n",
        "    \"Friday\": 5,\n",
        "    \"Saturday\": 6,\n",
        "    \"Sunday\": 7\n",
        "}\n",
        "\n",
        "custom_trip_types = {\n",
        "    3:0, 4:1, 5:2, 6:3, 7:4, 8:5, 9:6, 12:7, 14:8, 15:9, 18:10,\n",
        "    19:11, 20:12, 21:13, 22:14, 23:15, 24:16, 25:17, 26:18, 27:19,\n",
        "    28:20, 29:21, 30:22, 31:23, 32:24, 33:25, 34:26, 35:27, 36:28,\n",
        "    37:29, 38:30, 39:31, 40:32, 41:33, 42:34, 43:35, 44:36, 999:37\n",
        "}\n",
        "\n",
        "def get_original_trip_types(transformed_trip_types):\n",
        "    original_tt = {\n",
        "        custom_trip_types[k]: k for k in custom_trip_types\n",
        "    }\n",
        "    return transformed_trip_types.map(original_tt)\n",
        "\n",
        "def transform_data(vanilla_train, vanilla_test):\n",
        "    train_df = vanilla_train\n",
        "    test_df = vanilla_test\n",
        "    # set if train or test\n",
        "    train_df['is_train_set'] = 1\n",
        "    test_df['is_train_set'] = 0\n",
        "\n",
        "    # we  get the TripType for the train set. To do that, we group by\n",
        "    # VisitNumber and then we get the max (or min or avg)\n",
        "    y = train_df.groupby(\n",
        "        [\"VisitNumber\", \"Weekday\"], as_index=False).max().TripType\n",
        "    # parse original trip types to our cool trip types\n",
        "    y = y.map(custom_trip_types)\n",
        "\n",
        "    # drop TripType because test_df does not have it\n",
        "    train_df = train_df.drop(\"TripType\", axis=1)\n",
        "    data = pd.concat([train_df, test_df])\n",
        "\n",
        "    # Get dummies for departments\n",
        "    dummies = pd.get_dummies(data.DepartmentDescription)\n",
        "    data[dummies.columns] = dummies\n",
        "    data['Weekday'] = data['Weekday'].map(days)\n",
        "\n",
        "    data_dummies = data.iloc[:,7:]\n",
        "    data_dummies = data_dummies.apply(lambda x: x*data[\"ScanCount\"])\n",
        "    data_dummies = data_dummies.replace(-0,0)\n",
        "\n",
        "    # Get if element is returned or not\n",
        "    data.loc[data.ScanCount < 0, 'Return'] = 1\n",
        "    data.loc[data.Return != 1, 'Return'] = 0\n",
        "\n",
        "    # Get useful columns and change ScanCount for NumItems\n",
        "    data = data[[\n",
        "        \"VisitNumber\", \"Weekday\", \"ScanCount\", \"Return\", \"is_train_set\"]]\n",
        "    data = data.rename(columns={\"ScanCount\":\"NumItems\"})\n",
        "    data = pd.concat([data, data_dummies], axis=1)\n",
        "\n",
        "    # Set all features and a method to get the grouping method to use in each\n",
        "    # of the features. (np.sum if is department feature and np.max if not.\n",
        "    non_dept_features = ['Weekday', 'NumItems', 'Return', 'is_train_set', 'VisitNumber']\n",
        "    features = non_dept_features + list(dummies.columns)\n",
        "    get_grouped_method = lambda f : np.max if f in non_dept_features else np.sum\n",
        "\n",
        "    # Get all the features and the group method used in each one in a nice dict\n",
        "    group_methods = {k: get_grouped_method(k) for k in features}\n",
        "    # Group them once and for all using VisitNumber\n",
        "    grouped = data.groupby(\"VisitNumber\")\n",
        "    grouped = grouped.agg(group_methods)\n",
        "\n",
        "    data = grouped[features]\n",
        "\n",
        "    # get train and test back\n",
        "    train_df = data[data.is_train_set != 0]\n",
        "    test_df = data[data.is_train_set == 0]\n",
        "\n",
        "    res_train_df = train_df.drop([\"is_train_set\"], axis=1)\n",
        "    res_test_df = test_df.drop([\"is_train_set\"], axis=1)\n",
        "\n",
        "    res_train_df['TripType'] = y\n",
        "\n",
        "    return res_train_df, res_test_df\n",
        "\n",
        "def transform_data_train(vanilla_train):\n",
        "    data = vanilla_train\n",
        "\n",
        "    # Get dummies for departments\n",
        "    dummies = pd.get_dummies(data.DepartmentDescription)\n",
        "    data[dummies.columns] = dummies\n",
        "    data['Weekday'] = data['Weekday'].map(days)\n",
        "\n",
        "    data_dummies = data.iloc[:,7:]\n",
        "    data_dummies = data_dummies.apply(lambda x: x*data[\"ScanCount\"])\n",
        "    data_dummies = data_dummies.replace(-0,0)\n",
        "\n",
        "    # Get if element is returned or not\n",
        "    data.loc[data.ScanCount < 0, 'Return'] = 1\n",
        "    data.loc[data.Return != 1, 'Return'] = 0\n",
        "\n",
        "    # Get useful columns and change ScanCount for NumItems\n",
        "    data = data[[\n",
        "        \"TripType\", \"VisitNumber\", \"Weekday\", \"ScanCount\", \"Return\"]]\n",
        "    data = data.rename(columns={\"ScanCount\":\"NumItems\"})\n",
        "    data = pd.concat([data, data_dummies], axis=1)\n",
        "\n",
        "    # Set all features and a method to get the grouping method to use in each\n",
        "    # of the features. (np.sum if is department feature and np.max if not.\n",
        "    non_dept_features = ['TripType', 'Weekday', 'NumItems', 'Return']\n",
        "    features = non_dept_features + list(dummies.columns)\n",
        "    features.remove('1-HR PHOTO')\n",
        "    get_grouped_method = lambda f : np.max if f in non_dept_features else np.sum\n",
        "\n",
        "    # Get all the features and the group method used in each one in a nice dict\n",
        "    group_methods = {k: get_grouped_method(k) for k in features}\n",
        "    # Group them once and for all using VisitNumber\n",
        "    grouped = data.groupby(\"VisitNumber\")\n",
        "    grouped = grouped.agg(group_methods)\n",
        "\n",
        "    data = grouped[features]\n",
        "    data[\"TripType\"] = data[\"TripType\"].map(custom_trip_types)\n",
        "\n",
        "    return data\n",
        "\n",
        "def transform_data_test(vanilla_test):\n",
        "    data = vanilla_test\n",
        "\n",
        "    # Get dummies for departments\n",
        "    dummies = pd.get_dummies(data.DepartmentDescription)\n",
        "    data[dummies.columns] = dummies\n",
        "    data['Weekday'] = data['Weekday'].map(days)\n",
        "\n",
        "    data_dummies = data.iloc[:,7:]\n",
        "    data_dummies = data_dummies.apply(lambda x: x*data[\"ScanCount\"])\n",
        "    data_dummies = data_dummies.replace(-0,0)\n",
        "\n",
        "    # Get if element is returned or not\n",
        "    data.loc[data.ScanCount < 0, 'Return'] = 1\n",
        "    data.loc[data.Return != 1, 'Return'] = 0\n",
        "\n",
        "    # Get useful columns and change ScanCount for NumItems\n",
        "    data = data[[\n",
        "        \"VisitNumber\", \"Weekday\", \"ScanCount\", \"Return\"]]\n",
        "    data = data.rename(columns={\"ScanCount\":\"NumItems\"})\n",
        "    data = pd.concat([data, data_dummies], axis=1)\n",
        "\n",
        "    # Set all features and a method to get the grouping method to use in each\n",
        "    # of the features. (np.sum if is department feature and np.max if not.\n",
        "    non_dept_features = ['Weekday', 'NumItems', 'Return']\n",
        "    features = non_dept_features + list(dummies.columns)\n",
        "    features.remove('1-HR PHOTO')\n",
        "    get_grouped_method = lambda f : np.max if f in non_dept_features else np.sum\n",
        "\n",
        "    # Get all the features and the group method used in each one in a nice dict\n",
        "    group_methods = {k: get_grouped_method(k) for k in features}\n",
        "    # Group them once and for all using VisitNumber\n",
        "    grouped = data.groupby(\"VisitNumber\")\n",
        "    grouped = grouped.agg(group_methods)\n",
        "\n",
        "    data = grouped[features]\n",
        "\n",
        "    return data"
      ],
      "execution_count": 24,
      "outputs": []
    },
    {
      "cell_type": "markdown",
      "metadata": {
        "id": "Ur_Ucs_RY5ZR",
        "colab_type": "text"
      },
      "source": [
        "Load the data..."
      ]
    },
    {
      "cell_type": "code",
      "metadata": {
        "id": "t86d_GxDY5ZR",
        "colab_type": "code",
        "colab": {}
      },
      "source": [
        "res_train_df = transform_data_train(vanilla_train_df)\n",
        "res_test_df = transform_data_test(vanilla_test_df)"
      ],
      "execution_count": 25,
      "outputs": []
    },
    {
      "cell_type": "markdown",
      "metadata": {
        "id": "TlV5hvkYY5ZV",
        "colab_type": "text"
      },
      "source": [
        "Create the model and evaluate it"
      ]
    },
    {
      "cell_type": "code",
      "metadata": {
        "id": "FlMBJdN_Y5ZV",
        "colab_type": "code",
        "colab": {}
      },
      "source": [
        "# split training dataset into train and \"validation\" \n",
        "# (we won't be using validation set in this example, because of the cross-validation;\n",
        "# but it could be useful for you depending on your approach)\n",
        "from sklearn.model_selection import train_test_split\n",
        "train_df, test_df = train_test_split(res_train_df, test_size = .4)"
      ],
      "execution_count": 26,
      "outputs": []
    },
    {
      "cell_type": "code",
      "metadata": {
        "id": "ShDXN5htfCGI",
        "colab_type": "code",
        "colab": {}
      },
      "source": [
        "real_test_matrix = scipy.sparse.csr_matrix(res_test_df.values)"
      ],
      "execution_count": 27,
      "outputs": []
    },
    {
      "cell_type": "code",
      "metadata": {
        "id": "_hN0NazSietU",
        "colab_type": "code",
        "colab": {
          "base_uri": "https://localhost:8080/",
          "height": 399
        },
        "outputId": "96a9b9e3-9911-49c6-8f3f-85a95ca1468f"
      },
      "source": [
        "res_train_df.columns"
      ],
      "execution_count": 28,
      "outputs": [
        {
          "output_type": "execute_result",
          "data": {
            "text/plain": [
              "Index(['TripType', 'Weekday', 'NumItems', 'Return', 'ACCESSORIES',\n",
              "       'AUTOMOTIVE', 'BAKERY', 'BATH AND SHOWER', 'BEAUTY', 'BEDDING',\n",
              "       'BOOKS AND MAGAZINES', 'BOYS WEAR', 'BRAS & SHAPEWEAR',\n",
              "       'CAMERAS AND SUPPLIES', 'CANDY, TOBACCO, COOKIES', 'CELEBRATION',\n",
              "       'COMM BREAD', 'CONCEPT STORES', 'COOK AND DINE', 'DAIRY', 'DSD GROCERY',\n",
              "       'ELECTRONICS', 'FABRICS AND CRAFTS', 'FINANCIAL SERVICES',\n",
              "       'FROZEN FOODS', 'FURNITURE', 'GIRLS WEAR, 4-6X  AND 7-14',\n",
              "       'GROCERY DRY GOODS', 'HARDWARE', 'HEALTH AND BEAUTY AIDS', 'HOME DECOR',\n",
              "       'HOME MANAGEMENT', 'HORTICULTURE AND ACCESS',\n",
              "       'HOUSEHOLD CHEMICALS/SUPP', 'HOUSEHOLD PAPER GOODS',\n",
              "       'IMPULSE MERCHANDISE', 'INFANT APPAREL', 'INFANT CONSUMABLE HARDLINES',\n",
              "       'JEWELRY AND SUNGLASSES', 'LADIES SOCKS', 'LADIESWEAR',\n",
              "       'LARGE HOUSEHOLD GOODS', 'LAWN AND GARDEN', 'LIQUOR,WINE,BEER',\n",
              "       'MEAT - FRESH & FROZEN', 'MEDIA AND GAMING', 'MENS WEAR', 'MENSWEAR',\n",
              "       'OFFICE SUPPLIES', 'OPTICAL - FRAMES', 'OPTICAL - LENSES',\n",
              "       'OTHER DEPARTMENTS', 'PAINT AND ACCESSORIES', 'PERSONAL CARE',\n",
              "       'PETS AND SUPPLIES', 'PHARMACY OTC', 'PHARMACY RX',\n",
              "       'PLAYERS AND ELECTRONICS', 'PLUS AND MATERNITY', 'PRE PACKED DELI',\n",
              "       'PRODUCE', 'SEAFOOD', 'SEASONAL', 'SERVICE DELI', 'SHEER HOSIERY',\n",
              "       'SHOES', 'SLEEPWEAR/FOUNDATIONS', 'SPORTING GOODS',\n",
              "       'SWIMWEAR/OUTERWEAR', 'TOYS', 'WIRELESS'],\n",
              "      dtype='object')"
            ]
          },
          "metadata": {
            "tags": []
          },
          "execution_count": 28
        }
      ]
    },
    {
      "cell_type": "code",
      "metadata": {
        "id": "32KuAz5YlZdd",
        "colab_type": "code",
        "colab": {
          "base_uri": "https://localhost:8080/",
          "height": 34
        },
        "outputId": "785dfcf3-8420-434c-8782-af6da917e2a2"
      },
      "source": [
        "[x for x in res_train_df.columns if x not in res_test_df.columns]"
      ],
      "execution_count": 29,
      "outputs": [
        {
          "output_type": "execute_result",
          "data": {
            "text/plain": [
              "['TripType', 'HEALTH AND BEAUTY AIDS']"
            ]
          },
          "metadata": {
            "tags": []
          },
          "execution_count": 29
        }
      ]
    },
    {
      "cell_type": "code",
      "metadata": {
        "id": "-4iSCmsp9-LC",
        "colab_type": "code",
        "colab": {}
      },
      "source": [
        "train_matrix = xgb.DMatrix(\n",
        "  np.asarray(train_df.drop([\"TripType\", \"HEALTH AND BEAUTY AIDS\"], axis=1)),\n",
        "  label = np.asarray(train_df.TripType)\n",
        ")\n",
        "test_matrix = xgb.DMatrix(\n",
        "  np.asarray(test_df.drop([\"TripType\", \"HEALTH AND BEAUTY AIDS\"], axis=1)),\n",
        "  label = np.asarray(test_df.TripType)\n",
        ")\n",
        "real_test_matrix = xgb.DMatrix(np.asarray(res_test_df))"
      ],
      "execution_count": 30,
      "outputs": []
    },
    {
      "cell_type": "markdown",
      "metadata": {
        "id": "TeUG08zw9oQd",
        "colab_type": "text"
      },
      "source": [
        "Setting Paramaters"
      ]
    },
    {
      "cell_type": "code",
      "metadata": {
        "id": "rZGKNAQN9snE",
        "colab_type": "code",
        "colab": {}
      },
      "source": [
        "num_round = 200\n",
        "param = {'objective': 'multi:softprob', 'num_class':38, \n",
        "     'eval_metric': 'mlogloss', \"max_delta_step\": 5}\n",
        "watchlist = [(train_matrix,'train'), (test_matrix, 'eval')]"
      ],
      "execution_count": 31,
      "outputs": []
    },
    {
      "cell_type": "code",
      "metadata": {
        "id": "3-R5Q7ztBuTH",
        "colab_type": "code",
        "colab": {
          "base_uri": "https://localhost:8080/",
          "height": 34
        },
        "outputId": "117e95b4-7e4f-4443-8650-ea40f71c3420"
      },
      "source": [
        "len(train_df.columns)"
      ],
      "execution_count": 32,
      "outputs": [
        {
          "output_type": "execute_result",
          "data": {
            "text/plain": [
              "71"
            ]
          },
          "metadata": {
            "tags": []
          },
          "execution_count": 32
        }
      ]
    },
    {
      "cell_type": "markdown",
      "metadata": {
        "id": "Mv9Y7q6_-pGg",
        "colab_type": "text"
      },
      "source": [
        "Training the Model"
      ]
    },
    {
      "cell_type": "code",
      "metadata": {
        "id": "efwah-wY-qfx",
        "colab_type": "code",
        "colab": {
          "base_uri": "https://localhost:8080/",
          "height": 1000
        },
        "outputId": "ae1ec3a2-43ef-4218-96fc-a09e95ea748f"
      },
      "source": [
        "xgb_model = xgb.train(param, train_matrix, num_round, watchlist, \n",
        "            early_stopping_rounds=3)"
      ],
      "execution_count": 33,
      "outputs": [
        {
          "output_type": "stream",
          "text": [
            "[0]\ttrain-mlogloss:2.54171\teval-mlogloss:2.58223\n",
            "Multiple eval metrics have been passed: 'eval-mlogloss' will be used for early stopping.\n",
            "\n",
            "Will train until eval-mlogloss hasn't improved in 3 rounds.\n",
            "[1]\ttrain-mlogloss:2.06187\teval-mlogloss:2.13229\n",
            "[2]\ttrain-mlogloss:1.81176\teval-mlogloss:1.90327\n",
            "[3]\ttrain-mlogloss:1.64416\teval-mlogloss:1.74989\n",
            "[4]\ttrain-mlogloss:1.51947\teval-mlogloss:1.63835\n",
            "[5]\ttrain-mlogloss:1.42127\teval-mlogloss:1.55089\n",
            "[6]\ttrain-mlogloss:1.34233\teval-mlogloss:1.48266\n",
            "[7]\ttrain-mlogloss:1.27776\teval-mlogloss:1.42736\n",
            "[8]\ttrain-mlogloss:1.22371\teval-mlogloss:1.38169\n",
            "[9]\ttrain-mlogloss:1.17774\teval-mlogloss:1.34376\n",
            "[10]\ttrain-mlogloss:1.13788\teval-mlogloss:1.31184\n",
            "[11]\ttrain-mlogloss:1.10343\teval-mlogloss:1.28493\n",
            "[12]\ttrain-mlogloss:1.07222\teval-mlogloss:1.26112\n",
            "[13]\ttrain-mlogloss:1.04533\teval-mlogloss:1.24123\n",
            "[14]\ttrain-mlogloss:1.02179\teval-mlogloss:1.22369\n",
            "[15]\ttrain-mlogloss:1.00017\teval-mlogloss:1.20832\n",
            "[16]\ttrain-mlogloss:0.980769\teval-mlogloss:1.195\n",
            "[17]\ttrain-mlogloss:0.963093\teval-mlogloss:1.18309\n",
            "[18]\ttrain-mlogloss:0.946905\teval-mlogloss:1.17263\n",
            "[19]\ttrain-mlogloss:0.932186\teval-mlogloss:1.16333\n",
            "[20]\ttrain-mlogloss:0.918733\teval-mlogloss:1.15505\n",
            "[21]\ttrain-mlogloss:0.90598\teval-mlogloss:1.14758\n",
            "[22]\ttrain-mlogloss:0.893511\teval-mlogloss:1.14071\n",
            "[23]\ttrain-mlogloss:0.883074\teval-mlogloss:1.13485\n",
            "[24]\ttrain-mlogloss:0.872964\teval-mlogloss:1.12921\n",
            "[25]\ttrain-mlogloss:0.863005\teval-mlogloss:1.12398\n",
            "[26]\ttrain-mlogloss:0.85445\teval-mlogloss:1.11933\n",
            "[27]\ttrain-mlogloss:0.845672\teval-mlogloss:1.11499\n",
            "[28]\ttrain-mlogloss:0.836967\teval-mlogloss:1.11071\n",
            "[29]\ttrain-mlogloss:0.829501\teval-mlogloss:1.10706\n",
            "[30]\ttrain-mlogloss:0.822436\teval-mlogloss:1.10387\n",
            "[31]\ttrain-mlogloss:0.81496\teval-mlogloss:1.10067\n",
            "[32]\ttrain-mlogloss:0.808201\teval-mlogloss:1.09813\n",
            "[33]\ttrain-mlogloss:0.800979\teval-mlogloss:1.09457\n",
            "[34]\ttrain-mlogloss:0.794447\teval-mlogloss:1.09158\n",
            "[35]\ttrain-mlogloss:0.787888\teval-mlogloss:1.08863\n",
            "[36]\ttrain-mlogloss:0.782408\teval-mlogloss:1.08649\n",
            "[37]\ttrain-mlogloss:0.776889\teval-mlogloss:1.08439\n",
            "[38]\ttrain-mlogloss:0.770936\teval-mlogloss:1.0823\n",
            "[39]\ttrain-mlogloss:0.765491\teval-mlogloss:1.08018\n",
            "[40]\ttrain-mlogloss:0.760844\teval-mlogloss:1.07841\n",
            "[41]\ttrain-mlogloss:0.756015\teval-mlogloss:1.07643\n",
            "[42]\ttrain-mlogloss:0.751032\teval-mlogloss:1.07465\n",
            "[43]\ttrain-mlogloss:0.746424\teval-mlogloss:1.07307\n",
            "[44]\ttrain-mlogloss:0.741642\teval-mlogloss:1.07158\n",
            "[45]\ttrain-mlogloss:0.737018\teval-mlogloss:1.06981\n",
            "[46]\ttrain-mlogloss:0.732611\teval-mlogloss:1.06828\n",
            "[47]\ttrain-mlogloss:0.728482\teval-mlogloss:1.06708\n",
            "[48]\ttrain-mlogloss:0.724887\teval-mlogloss:1.06596\n",
            "[49]\ttrain-mlogloss:0.720818\teval-mlogloss:1.06427\n",
            "[50]\ttrain-mlogloss:0.716415\teval-mlogloss:1.06324\n",
            "[51]\ttrain-mlogloss:0.712503\teval-mlogloss:1.06217\n",
            "[52]\ttrain-mlogloss:0.70821\teval-mlogloss:1.06107\n",
            "[53]\ttrain-mlogloss:0.704414\teval-mlogloss:1.06021\n",
            "[54]\ttrain-mlogloss:0.700829\teval-mlogloss:1.0594\n",
            "[55]\ttrain-mlogloss:0.697937\teval-mlogloss:1.05861\n",
            "[56]\ttrain-mlogloss:0.694833\teval-mlogloss:1.05788\n",
            "[57]\ttrain-mlogloss:0.691813\teval-mlogloss:1.057\n",
            "[58]\ttrain-mlogloss:0.688791\teval-mlogloss:1.05595\n",
            "[59]\ttrain-mlogloss:0.685524\teval-mlogloss:1.05498\n",
            "[60]\ttrain-mlogloss:0.682667\teval-mlogloss:1.05414\n",
            "[61]\ttrain-mlogloss:0.679037\teval-mlogloss:1.05332\n",
            "[62]\ttrain-mlogloss:0.67532\teval-mlogloss:1.05284\n",
            "[63]\ttrain-mlogloss:0.672109\teval-mlogloss:1.05203\n",
            "[64]\ttrain-mlogloss:0.669169\teval-mlogloss:1.05149\n",
            "[65]\ttrain-mlogloss:0.666026\teval-mlogloss:1.05078\n",
            "[66]\ttrain-mlogloss:0.663299\teval-mlogloss:1.05011\n",
            "[67]\ttrain-mlogloss:0.660371\teval-mlogloss:1.04971\n",
            "[68]\ttrain-mlogloss:0.657414\teval-mlogloss:1.04921\n",
            "[69]\ttrain-mlogloss:0.654817\teval-mlogloss:1.04863\n",
            "[70]\ttrain-mlogloss:0.652213\teval-mlogloss:1.04828\n",
            "[71]\ttrain-mlogloss:0.649481\teval-mlogloss:1.04765\n",
            "[72]\ttrain-mlogloss:0.647076\teval-mlogloss:1.04714\n",
            "[73]\ttrain-mlogloss:0.64434\teval-mlogloss:1.04651\n",
            "[74]\ttrain-mlogloss:0.641823\teval-mlogloss:1.0459\n",
            "[75]\ttrain-mlogloss:0.639484\teval-mlogloss:1.04561\n",
            "[76]\ttrain-mlogloss:0.6369\teval-mlogloss:1.04529\n",
            "[77]\ttrain-mlogloss:0.634211\teval-mlogloss:1.04475\n",
            "[78]\ttrain-mlogloss:0.631867\teval-mlogloss:1.04445\n",
            "[79]\ttrain-mlogloss:0.629537\teval-mlogloss:1.04425\n",
            "[80]\ttrain-mlogloss:0.627269\teval-mlogloss:1.04404\n",
            "[81]\ttrain-mlogloss:0.624701\teval-mlogloss:1.04367\n",
            "[82]\ttrain-mlogloss:0.621813\teval-mlogloss:1.0435\n",
            "[83]\ttrain-mlogloss:0.619367\teval-mlogloss:1.04332\n",
            "[84]\ttrain-mlogloss:0.617229\teval-mlogloss:1.04305\n",
            "[85]\ttrain-mlogloss:0.615234\teval-mlogloss:1.04287\n",
            "[86]\ttrain-mlogloss:0.613345\teval-mlogloss:1.04299\n",
            "[87]\ttrain-mlogloss:0.611266\teval-mlogloss:1.04296\n",
            "[88]\ttrain-mlogloss:0.608768\teval-mlogloss:1.04261\n",
            "[89]\ttrain-mlogloss:0.606569\teval-mlogloss:1.04256\n",
            "[90]\ttrain-mlogloss:0.604661\teval-mlogloss:1.04251\n",
            "[91]\ttrain-mlogloss:0.602559\teval-mlogloss:1.04221\n",
            "[92]\ttrain-mlogloss:0.59999\teval-mlogloss:1.04184\n",
            "[93]\ttrain-mlogloss:0.597429\teval-mlogloss:1.04141\n",
            "[94]\ttrain-mlogloss:0.595026\teval-mlogloss:1.04157\n",
            "[95]\ttrain-mlogloss:0.59313\teval-mlogloss:1.04128\n",
            "[96]\ttrain-mlogloss:0.591212\teval-mlogloss:1.04105\n",
            "[97]\ttrain-mlogloss:0.589291\teval-mlogloss:1.0409\n",
            "[98]\ttrain-mlogloss:0.587468\teval-mlogloss:1.04093\n",
            "[99]\ttrain-mlogloss:0.585711\teval-mlogloss:1.04098\n",
            "[100]\ttrain-mlogloss:0.583666\teval-mlogloss:1.04089\n",
            "[101]\ttrain-mlogloss:0.581895\teval-mlogloss:1.04096\n",
            "[102]\ttrain-mlogloss:0.579905\teval-mlogloss:1.04104\n",
            "[103]\ttrain-mlogloss:0.578075\teval-mlogloss:1.04106\n",
            "Stopping. Best iteration:\n",
            "[100]\ttrain-mlogloss:0.583666\teval-mlogloss:1.04089\n",
            "\n"
          ],
          "name": "stdout"
        }
      ]
    },
    {
      "cell_type": "markdown",
      "metadata": {
        "id": "V-07OtgRY5Zm",
        "colab_type": "text"
      },
      "source": [
        "**And finally**, we predict the unknown label for the testing set"
      ]
    },
    {
      "cell_type": "code",
      "metadata": {
        "id": "HIxQry7bxrTM",
        "colab_type": "code",
        "colab": {
          "base_uri": "https://localhost:8080/",
          "height": 311
        },
        "outputId": "ec2faa3c-5ed1-4e33-f8ce-d54e390f2e17"
      },
      "source": [
        "test_predictions = xgb_model.predict(real_test_matrix)"
      ],
      "execution_count": 46,
      "outputs": [
        {
          "output_type": "error",
          "ename": "AttributeError",
          "evalue": "ignored",
          "traceback": [
            "\u001b[0;31m---------------------------------------------------------------------------\u001b[0m",
            "\u001b[0;31mAttributeError\u001b[0m                            Traceback (most recent call last)",
            "\u001b[0;32m<ipython-input-46-11b9be0d2323>\u001b[0m in \u001b[0;36m<module>\u001b[0;34m()\u001b[0m\n\u001b[0;32m----> 1\u001b[0;31m \u001b[0mtest_predictions\u001b[0m \u001b[0;34m=\u001b[0m \u001b[0mxgb_model\u001b[0m\u001b[0;34m.\u001b[0m\u001b[0mpredict\u001b[0m\u001b[0;34m(\u001b[0m\u001b[0mres_test_df\u001b[0m\u001b[0;34m)\u001b[0m\u001b[0;34m\u001b[0m\u001b[0;34m\u001b[0m\u001b[0m\n\u001b[0m",
            "\u001b[0;32m/usr/local/lib/python3.6/dist-packages/xgboost/core.py\u001b[0m in \u001b[0;36mpredict\u001b[0;34m(self, data, output_margin, ntree_limit, pred_leaf, pred_contribs, approx_contribs, pred_interactions, validate_features)\u001b[0m\n\u001b[1;32m   1282\u001b[0m \u001b[0;34m\u001b[0m\u001b[0m\n\u001b[1;32m   1283\u001b[0m         \u001b[0;32mif\u001b[0m \u001b[0mvalidate_features\u001b[0m\u001b[0;34m:\u001b[0m\u001b[0;34m\u001b[0m\u001b[0;34m\u001b[0m\u001b[0m\n\u001b[0;32m-> 1284\u001b[0;31m             \u001b[0mself\u001b[0m\u001b[0;34m.\u001b[0m\u001b[0m_validate_features\u001b[0m\u001b[0;34m(\u001b[0m\u001b[0mdata\u001b[0m\u001b[0;34m)\u001b[0m\u001b[0;34m\u001b[0m\u001b[0;34m\u001b[0m\u001b[0m\n\u001b[0m\u001b[1;32m   1285\u001b[0m \u001b[0;34m\u001b[0m\u001b[0m\n\u001b[1;32m   1286\u001b[0m         \u001b[0mlength\u001b[0m \u001b[0;34m=\u001b[0m \u001b[0mc_bst_ulong\u001b[0m\u001b[0;34m(\u001b[0m\u001b[0;34m)\u001b[0m\u001b[0;34m\u001b[0m\u001b[0;34m\u001b[0m\u001b[0m\n",
            "\u001b[0;32m/usr/local/lib/python3.6/dist-packages/xgboost/core.py\u001b[0m in \u001b[0;36m_validate_features\u001b[0;34m(self, data)\u001b[0m\n\u001b[1;32m   1673\u001b[0m         \u001b[0;32melse\u001b[0m\u001b[0;34m:\u001b[0m\u001b[0;34m\u001b[0m\u001b[0;34m\u001b[0m\u001b[0m\n\u001b[1;32m   1674\u001b[0m             \u001b[0;31m# Booster can't accept data with different feature names\u001b[0m\u001b[0;34m\u001b[0m\u001b[0;34m\u001b[0m\u001b[0;34m\u001b[0m\u001b[0m\n\u001b[0;32m-> 1675\u001b[0;31m             \u001b[0;32mif\u001b[0m \u001b[0mself\u001b[0m\u001b[0;34m.\u001b[0m\u001b[0mfeature_names\u001b[0m \u001b[0;34m!=\u001b[0m \u001b[0mdata\u001b[0m\u001b[0;34m.\u001b[0m\u001b[0mfeature_names\u001b[0m\u001b[0;34m:\u001b[0m\u001b[0;34m\u001b[0m\u001b[0;34m\u001b[0m\u001b[0m\n\u001b[0m\u001b[1;32m   1676\u001b[0m                 \u001b[0mdat_missing\u001b[0m \u001b[0;34m=\u001b[0m \u001b[0mset\u001b[0m\u001b[0;34m(\u001b[0m\u001b[0mself\u001b[0m\u001b[0;34m.\u001b[0m\u001b[0mfeature_names\u001b[0m\u001b[0;34m)\u001b[0m \u001b[0;34m-\u001b[0m \u001b[0mset\u001b[0m\u001b[0;34m(\u001b[0m\u001b[0mdata\u001b[0m\u001b[0;34m.\u001b[0m\u001b[0mfeature_names\u001b[0m\u001b[0;34m)\u001b[0m\u001b[0;34m\u001b[0m\u001b[0;34m\u001b[0m\u001b[0m\n\u001b[1;32m   1677\u001b[0m                 \u001b[0mmy_missing\u001b[0m \u001b[0;34m=\u001b[0m \u001b[0mset\u001b[0m\u001b[0;34m(\u001b[0m\u001b[0mdata\u001b[0m\u001b[0;34m.\u001b[0m\u001b[0mfeature_names\u001b[0m\u001b[0;34m)\u001b[0m \u001b[0;34m-\u001b[0m \u001b[0mset\u001b[0m\u001b[0;34m(\u001b[0m\u001b[0mself\u001b[0m\u001b[0;34m.\u001b[0m\u001b[0mfeature_names\u001b[0m\u001b[0;34m)\u001b[0m\u001b[0;34m\u001b[0m\u001b[0;34m\u001b[0m\u001b[0m\n",
            "\u001b[0;32m/usr/local/lib/python3.6/dist-packages/pandas/core/generic.py\u001b[0m in \u001b[0;36m__getattr__\u001b[0;34m(self, name)\u001b[0m\n\u001b[1;32m   5272\u001b[0m             \u001b[0;32mif\u001b[0m \u001b[0mself\u001b[0m\u001b[0;34m.\u001b[0m\u001b[0m_info_axis\u001b[0m\u001b[0;34m.\u001b[0m\u001b[0m_can_hold_identifiers_and_holds_name\u001b[0m\u001b[0;34m(\u001b[0m\u001b[0mname\u001b[0m\u001b[0;34m)\u001b[0m\u001b[0;34m:\u001b[0m\u001b[0;34m\u001b[0m\u001b[0;34m\u001b[0m\u001b[0m\n\u001b[1;32m   5273\u001b[0m                 \u001b[0;32mreturn\u001b[0m \u001b[0mself\u001b[0m\u001b[0;34m[\u001b[0m\u001b[0mname\u001b[0m\u001b[0;34m]\u001b[0m\u001b[0;34m\u001b[0m\u001b[0;34m\u001b[0m\u001b[0m\n\u001b[0;32m-> 5274\u001b[0;31m             \u001b[0;32mreturn\u001b[0m \u001b[0mobject\u001b[0m\u001b[0;34m.\u001b[0m\u001b[0m__getattribute__\u001b[0m\u001b[0;34m(\u001b[0m\u001b[0mself\u001b[0m\u001b[0;34m,\u001b[0m \u001b[0mname\u001b[0m\u001b[0;34m)\u001b[0m\u001b[0;34m\u001b[0m\u001b[0;34m\u001b[0m\u001b[0m\n\u001b[0m\u001b[1;32m   5275\u001b[0m \u001b[0;34m\u001b[0m\u001b[0m\n\u001b[1;32m   5276\u001b[0m     \u001b[0;32mdef\u001b[0m \u001b[0m__setattr__\u001b[0m\u001b[0;34m(\u001b[0m\u001b[0mself\u001b[0m\u001b[0;34m,\u001b[0m \u001b[0mname\u001b[0m\u001b[0;34m:\u001b[0m \u001b[0mstr\u001b[0m\u001b[0;34m,\u001b[0m \u001b[0mvalue\u001b[0m\u001b[0;34m)\u001b[0m \u001b[0;34m->\u001b[0m \u001b[0;32mNone\u001b[0m\u001b[0;34m:\u001b[0m\u001b[0;34m\u001b[0m\u001b[0;34m\u001b[0m\u001b[0m\n",
            "\u001b[0;31mAttributeError\u001b[0m: 'DataFrame' object has no attribute 'feature_names'"
          ]
        }
      ]
    },
    {
      "cell_type": "code",
      "metadata": {
        "id": "54ZVsa0VOnbz",
        "colab_type": "code",
        "colab": {
          "base_uri": "https://localhost:8080/",
          "height": 243
        },
        "outputId": "a7205900-1557-4896-89ab-4df0cc0ecb8a"
      },
      "source": [
        "test_predictions"
      ],
      "execution_count": 35,
      "outputs": [
        {
          "output_type": "execute_result",
          "data": {
            "text/plain": [
              "array([[3.60607752e-04, 2.72978432e-05, 2.34291700e-04, ...,\n",
              "        1.34299137e-02, 2.27973401e-03, 1.59524586e-02],\n",
              "       [8.62195975e-06, 6.58233239e-06, 6.09846793e-05, ...,\n",
              "        1.97522272e-03, 2.07171366e-02, 3.68040812e-04],\n",
              "       [2.59405824e-05, 5.08079665e-06, 2.41589732e-05, ...,\n",
              "        6.71098940e-04, 9.87405510e-05, 2.10534432e-03],\n",
              "       ...,\n",
              "       [2.63834834e-01, 3.65626802e-05, 4.38308256e-04, ...,\n",
              "        2.17765337e-03, 4.67205857e-04, 1.58838555e-02],\n",
              "       [5.96900122e-07, 8.44294729e-04, 3.97432502e-03, ...,\n",
              "        7.89197220e-05, 7.95963686e-04, 2.56604853e-05],\n",
              "       [4.80985591e-07, 8.76643637e-04, 8.28466099e-03, ...,\n",
              "        9.55477444e-05, 5.38658118e-04, 1.15901785e-04]], dtype=float32)"
            ]
          },
          "metadata": {
            "tags": []
          },
          "execution_count": 35
        }
      ]
    },
    {
      "cell_type": "markdown",
      "metadata": {
        "id": "sqMR91nMY5Zs",
        "colab_type": "text"
      },
      "source": [
        "The last thing we do is generating a file that should be *submitted* on kaggle"
      ]
    },
    {
      "cell_type": "code",
      "metadata": {
        "id": "iH55cTPfNf3a",
        "colab_type": "code",
        "colab": {}
      },
      "source": [
        "def predictions_to_csv(test_predictions):\n",
        "    test_predictions = pd.DataFrame(test_predictions)\n",
        "    test_indexes = res_test_df.index\n",
        "    test_predictions = test_predictions.rename(columns = {0:3, 1: 4, 2: 5, 3: 6, \n",
        "                4: 7, 5: 8, 6: 9, 7: 12, 8: 14, \n",
        "                9: 15, 10: 18, 11: 19, 12: 20, 13: 21,\n",
        "                14: 22, 15: 23, 16: 24, 17: 25, 18: 26, \n",
        "                19: 27, 20: 28, 21: 29, 22: 30, 23: 31, \n",
        "                24: 32, 25: 33, 26: 34, 27: 35, 28: 36, \n",
        "                29: 37, 30: 38, 31: 39, 32: 40, 33: 41, \n",
        "                34: 42, 35: 43, 36: 44, 37: 999})\n",
        "    test_predictions['TripType'] = test_predictions.idxmax(axis=1)\n",
        "    test_predictions.insert(0, 'VisitNumber', test_indexes)\n",
        "\n",
        "    test_predictions[['VisitNumber', 'TripType']].to_csv(\"/content/submission.csv\", index=False)\n",
        "\n",
        "    return test_predictions[['VisitNumber', 'TripType']]"
      ],
      "execution_count": 56,
      "outputs": []
    },
    {
      "cell_type": "code",
      "metadata": {
        "id": "tapbeoXrPjGZ",
        "colab_type": "code",
        "colab": {}
      },
      "source": [
        "submission = predictions_to_csv(test_predictions)"
      ],
      "execution_count": 57,
      "outputs": []
    },
    {
      "cell_type": "code",
      "metadata": {
        "id": "eU6AtC3vB8eN",
        "colab_type": "code",
        "colab": {
          "base_uri": "https://localhost:8080/",
          "height": 424
        },
        "outputId": "c5a23977-1986-4e34-872c-f8e6650ecfc8"
      },
      "source": [
        "submission"
      ],
      "execution_count": 58,
      "outputs": [
        {
          "output_type": "execute_result",
          "data": {
            "text/html": [
              "<div>\n",
              "<style scoped>\n",
              "    .dataframe tbody tr th:only-of-type {\n",
              "        vertical-align: middle;\n",
              "    }\n",
              "\n",
              "    .dataframe tbody tr th {\n",
              "        vertical-align: top;\n",
              "    }\n",
              "\n",
              "    .dataframe thead th {\n",
              "        text-align: right;\n",
              "    }\n",
              "</style>\n",
              "<table border=\"1\" class=\"dataframe\">\n",
              "  <thead>\n",
              "    <tr style=\"text-align: right;\">\n",
              "      <th></th>\n",
              "      <th>VisitNumber</th>\n",
              "      <th>TripType</th>\n",
              "    </tr>\n",
              "  </thead>\n",
              "  <tbody>\n",
              "    <tr>\n",
              "      <th>0</th>\n",
              "      <td>7</td>\n",
              "      <td>30</td>\n",
              "    </tr>\n",
              "    <tr>\n",
              "      <th>1</th>\n",
              "      <td>8</td>\n",
              "      <td>26</td>\n",
              "    </tr>\n",
              "    <tr>\n",
              "      <th>2</th>\n",
              "      <td>15</td>\n",
              "      <td>21</td>\n",
              "    </tr>\n",
              "    <tr>\n",
              "      <th>3</th>\n",
              "      <td>19</td>\n",
              "      <td>42</td>\n",
              "    </tr>\n",
              "    <tr>\n",
              "      <th>4</th>\n",
              "      <td>23</td>\n",
              "      <td>24</td>\n",
              "    </tr>\n",
              "    <tr>\n",
              "      <th>...</th>\n",
              "      <td>...</td>\n",
              "      <td>...</td>\n",
              "    </tr>\n",
              "    <tr>\n",
              "      <th>28640</th>\n",
              "      <td>191331</td>\n",
              "      <td>9</td>\n",
              "    </tr>\n",
              "    <tr>\n",
              "      <th>28641</th>\n",
              "      <td>191335</td>\n",
              "      <td>32</td>\n",
              "    </tr>\n",
              "    <tr>\n",
              "      <th>28642</th>\n",
              "      <td>191342</td>\n",
              "      <td>8</td>\n",
              "    </tr>\n",
              "    <tr>\n",
              "      <th>28643</th>\n",
              "      <td>191345</td>\n",
              "      <td>39</td>\n",
              "    </tr>\n",
              "    <tr>\n",
              "      <th>28644</th>\n",
              "      <td>191346</td>\n",
              "      <td>39</td>\n",
              "    </tr>\n",
              "  </tbody>\n",
              "</table>\n",
              "<p>28645 rows × 2 columns</p>\n",
              "</div>"
            ],
            "text/plain": [
              "       VisitNumber  TripType\n",
              "0                7        30\n",
              "1                8        26\n",
              "2               15        21\n",
              "3               19        42\n",
              "4               23        24\n",
              "...            ...       ...\n",
              "28640       191331         9\n",
              "28641       191335        32\n",
              "28642       191342         8\n",
              "28643       191345        39\n",
              "28644       191346        39\n",
              "\n",
              "[28645 rows x 2 columns]"
            ]
          },
          "metadata": {
            "tags": []
          },
          "execution_count": 58
        }
      ]
    },
    {
      "cell_type": "code",
      "metadata": {
        "id": "eTVjf3kxEaaM",
        "colab_type": "code",
        "colab": {}
      },
      "source": [
        ""
      ],
      "execution_count": null,
      "outputs": []
    }
  ]
}